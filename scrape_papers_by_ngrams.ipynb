{
 "cells": [
  {
   "cell_type": "markdown",
   "metadata": {},
   "source": [
    "This script allow to get all the papers in openAlex that are including one or more keywords (in a list) in their title or abstract.\n",
    "The keywords are considered here by ngrams."
   ]
  },
  {
   "cell_type": "code",
   "execution_count": 1,
   "metadata": {},
   "outputs": [],
   "source": [
    "import requests\n",
    "import pandas as pd\n",
    "from tqdm import tqdm"
   ]
  },
  {
   "cell_type": "markdown",
   "metadata": {},
   "source": [
    "# open keywords database (AI)"
   ]
  },
  {
   "cell_type": "code",
   "execution_count": 7,
   "metadata": {},
   "outputs": [
    {
     "data": {
      "text/html": [
       "<div>\n",
       "<style scoped>\n",
       "    .dataframe tbody tr th:only-of-type {\n",
       "        vertical-align: middle;\n",
       "    }\n",
       "\n",
       "    .dataframe tbody tr th {\n",
       "        vertical-align: top;\n",
       "    }\n",
       "\n",
       "    .dataframe thead th {\n",
       "        text-align: right;\n",
       "    }\n",
       "</style>\n",
       "<table border=\"1\" class=\"dataframe\">\n",
       "  <thead>\n",
       "    <tr style=\"text-align: right;\">\n",
       "      <th></th>\n",
       "      <th>keyword</th>\n",
       "      <th>class</th>\n",
       "    </tr>\n",
       "  </thead>\n",
       "  <tbody>\n",
       "    <tr>\n",
       "      <th>0</th>\n",
       "      <td>evolutionary algorithm</td>\n",
       "      <td>optimization</td>\n",
       "    </tr>\n",
       "    <tr>\n",
       "      <th>1</th>\n",
       "      <td>simulated annealing</td>\n",
       "      <td>optimization</td>\n",
       "    </tr>\n",
       "    <tr>\n",
       "      <th>2</th>\n",
       "      <td>hierarchical clustering</td>\n",
       "      <td>cluster analysis</td>\n",
       "    </tr>\n",
       "    <tr>\n",
       "      <th>3</th>\n",
       "      <td>principal component analysis</td>\n",
       "      <td>cluster analysis</td>\n",
       "    </tr>\n",
       "    <tr>\n",
       "      <th>4</th>\n",
       "      <td>unsupervised learning</td>\n",
       "      <td>machine learning</td>\n",
       "    </tr>\n",
       "    <tr>\n",
       "      <th>...</th>\n",
       "      <td>...</td>\n",
       "      <td>...</td>\n",
       "    </tr>\n",
       "    <tr>\n",
       "      <th>527</th>\n",
       "      <td>multi swarm optimization</td>\n",
       "      <td>optimization</td>\n",
       "    </tr>\n",
       "    <tr>\n",
       "      <th>528</th>\n",
       "      <td>fast and frugal trees</td>\n",
       "      <td>AI general</td>\n",
       "    </tr>\n",
       "    <tr>\n",
       "      <th>529</th>\n",
       "      <td>chess playing computer</td>\n",
       "      <td>robotics</td>\n",
       "    </tr>\n",
       "    <tr>\n",
       "      <th>530</th>\n",
       "      <td>bias variance tradeoff</td>\n",
       "      <td>optimization</td>\n",
       "    </tr>\n",
       "    <tr>\n",
       "      <th>531</th>\n",
       "      <td>convolutional neural network (cnn)</td>\n",
       "      <td>deep learning</td>\n",
       "    </tr>\n",
       "  </tbody>\n",
       "</table>\n",
       "<p>532 rows × 2 columns</p>\n",
       "</div>"
      ],
      "text/plain": [
       "                                 keyword             class\n",
       "0                 evolutionary algorithm      optimization\n",
       "1                    simulated annealing      optimization\n",
       "2                hierarchical clustering  cluster analysis\n",
       "3           principal component analysis  cluster analysis\n",
       "4                  unsupervised learning  machine learning\n",
       "..                                   ...               ...\n",
       "527             multi swarm optimization      optimization\n",
       "528                fast and frugal trees        AI general\n",
       "529               chess playing computer          robotics\n",
       "530               bias variance tradeoff      optimization\n",
       "531   convolutional neural network (cnn)     deep learning\n",
       "\n",
       "[532 rows x 2 columns]"
      ]
     },
     "execution_count": 7,
     "metadata": {},
     "output_type": "execute_result"
    }
   ],
   "source": [
    "AIkwclass = pd.read_csv('/../classification.txt',sep=';',names=['keyword','class'])\n",
    "AIkwclass"
   ]
  },
  {
   "cell_type": "markdown",
   "metadata": {},
   "source": [
    "# scrape papers for one keyword/ngram"
   ]
  },
  {
   "cell_type": "code",
   "execution_count": 2,
   "metadata": {},
   "outputs": [],
   "source": [
    "def add_request_abstract(string, ngram):\n",
    "    if string[-1] != '=':\n",
    "        return string + ',abstract.search:' + ngram.replace(' ','%')\n",
    "    else:\n",
    "        return string + 'abstract.search:' + ngram.replace(' ','%')\n",
    "    \n",
    "def add_request_title(string, ngram):\n",
    "    if string[-1] != '=':\n",
    "        return string + ',title.search:' + ngram.replace(' ','%')\n",
    "    else:\n",
    "        return string + 'title.search:' + ngram.replace(' ','%')\n",
    "    \n",
    "def add_request_fulltext(string, ngram):\n",
    "    if string[-1] != '=':\n",
    "        return string + ',fulltext.search:' + ngram.replace(' ','%')\n",
    "    else:\n",
    "        return string + 'fulltext.search:' + ngram.replace(' ','%')\n",
    "    \n",
    "def add_publicationYear(string, year):\n",
    "    if string[-1] != '=':\n",
    "        return string + f',publication_year:{year}'\n",
    "    else:\n",
    "        return string + f'publication_year:{year}'\n",
    "    \n",
    "# from the key 'abstract_inverted_index' key per paper\n",
    "def rebuild_abstract(word_dict):\n",
    "    if word_dict != None:\n",
    "        # search the highest index\n",
    "        max_index = 0\n",
    "        for ind in word_dict.values():\n",
    "            local_max = max(ind)\n",
    "            if local_max > max_index:\n",
    "                max_index = local_max\n",
    "        abstract = [0]*(max_index+1)\n",
    "        for i in word_dict.keys():\n",
    "            for j in word_dict[i]:\n",
    "                abstract[j] = i\n",
    "        abstract = ' '.join(abstract)\n",
    "        return abstract\n",
    "    else:\n",
    "        return('')"
   ]
  },
  {
   "cell_type": "code",
   "execution_count": 3,
   "metadata": {},
   "outputs": [],
   "source": [
    "is_work = 'https://api.openalex.org/works?'\n",
    "authentification = 'mailto=myemail@adress.com'\n",
    "# need to have a doi, an abstract and at least one reference\n",
    "filtering = 'filter=has_doi:true,has_abstract:true,has_references:true'\n",
    "results_per_page = 'per-page=100'\n",
    "cursor = 'cursor=*'"
   ]
  },
  {
   "cell_type": "code",
   "execution_count": 4,
   "metadata": {},
   "outputs": [],
   "source": [
    "baseURL = '&'.join([is_work,\n",
    "                    authentification,\n",
    "                    results_per_page,\n",
    "                    cursor,\n",
    "                    filtering])\n",
    "baseURL = add_request_abstract(baseURL, 'chess playing computer')\n",
    "baseURL = add_request_title(baseURL, 'chess playing computer')\n",
    "baseURL = add_publicationYear(baseURL, 2020)"
   ]
  },
  {
   "cell_type": "code",
   "execution_count": 5,
   "metadata": {},
   "outputs": [
    {
     "data": {
      "text/plain": [
       "'https://api.openalex.org/works?&mailto=myemail@adress.com&per-page=100&cursor=*&filter=has_doi:true,has_abstract:true,has_references:true,abstract.search:chess%playing%computer,title.search:chess%playing%computer,publication_year:2020'"
      ]
     },
     "execution_count": 5,
     "metadata": {},
     "output_type": "execute_result"
    }
   ],
   "source": [
    "baseURL"
   ]
  },
  {
   "cell_type": "code",
   "execution_count": 6,
   "metadata": {},
   "outputs": [],
   "source": [
    "#request for one keyword\n",
    "cc = requests.get(baseURL).json()"
   ]
  },
  {
   "cell_type": "code",
   "execution_count": 9,
   "metadata": {},
   "outputs": [],
   "source": [
    "ccdf = pd.DataFrame(cc['results'])"
   ]
  },
  {
   "cell_type": "code",
   "execution_count": 16,
   "metadata": {
    "scrolled": true
   },
   "outputs": [
    {
     "data": {
      "text/plain": [
       "{'It': [0],\n",
       " 'is': [1],\n",
       " 'been': [2, 22],\n",
       " '46': [3],\n",
       " 'years': [4],\n",
       " 'since': [5],\n",
       " 'the': [6, 44, 72, 78],\n",
       " 'first': [7],\n",
       " 'computer': [8],\n",
       " 'chess': [9],\n",
       " 'world': [10],\n",
       " 'championship': [11],\n",
       " 'was': [12],\n",
       " 'held': [13],\n",
       " 'in': [14, 16],\n",
       " 'Stockholm': [15],\n",
       " '1974,': [17],\n",
       " 'and': [18],\n",
       " 'there': [19],\n",
       " 'have': [20, 75],\n",
       " 'now': [21],\n",
       " '24': [23],\n",
       " 'more': [24],\n",
       " 'with': [25],\n",
       " 'over': [26, 77],\n",
       " '700': [27],\n",
       " 'games': [28],\n",
       " 'played.': [29],\n",
       " 'This': [30],\n",
       " 'paper': [31],\n",
       " 'investigates': [32],\n",
       " 'a': [33, 38],\n",
       " 'number': [34],\n",
       " 'of': [35, 46, 71],\n",
       " 'questions': [36],\n",
       " 'that': [37],\n",
       " 'curious': [39],\n",
       " 'soul': [40],\n",
       " 'might': [41],\n",
       " 'ask': [42],\n",
       " 'regarding': [43],\n",
       " 'results': [45],\n",
       " 'these': [47],\n",
       " 'games,': [48],\n",
       " 'especially': [49],\n",
       " 'how': [50, 69],\n",
       " 'they': [51],\n",
       " 'ended.': [52],\n",
       " 'The': [53],\n",
       " 'data': [54, 67],\n",
       " 'provided': [55],\n",
       " 'herein': [56],\n",
       " 'attempts': [57],\n",
       " 'to': [58],\n",
       " 'answer': [59],\n",
       " 'several': [60],\n",
       " 'related': [61],\n",
       " 'questions.': [62],\n",
       " 'In': [63],\n",
       " 'addition,': [64],\n",
       " 'it': [65],\n",
       " 'presents': [66],\n",
       " 'showing': [68],\n",
       " 'ratings': [70],\n",
       " 'top': [73],\n",
       " 'engines': [74],\n",
       " 'increased': [76],\n",
       " 'years.': [79]}"
      ]
     },
     "execution_count": 16,
     "metadata": {},
     "output_type": "execute_result"
    }
   ],
   "source": [
    "ccdf['abstract_inverted_index'][0]"
   ]
  },
  {
   "cell_type": "code",
   "execution_count": 15,
   "metadata": {},
   "outputs": [
    {
     "data": {
      "text/plain": [
       "'It is been 46 years since the first computer chess world championship was held in Stockholm in 1974, and there have now been 24 more with over 700 games played. This paper investigates a number of questions that a curious soul might ask regarding the results of these games, especially how they ended. The data provided herein attempts to answer several related questions. In addition, it presents data showing how ratings of the top engines have increased over the years.'"
      ]
     },
     "execution_count": 15,
     "metadata": {},
     "output_type": "execute_result"
    }
   ],
   "source": [
    "rebuild_abstract(ccdf['abstract_inverted_index'][0])"
   ]
  },
  {
   "cell_type": "markdown",
   "metadata": {},
   "source": [
    "# scrape papers for mutiple keywords/ngrams"
   ]
  },
  {
   "cell_type": "code",
   "execution_count": 51,
   "metadata": {},
   "outputs": [],
   "source": [
    "is_work = 'https://api.openalex.org/works?'\n",
    "authentification = 'mailto=myemail@adress.com'\n",
    "# need to have a doi, an abstract and at least one reference\n",
    "filtering = 'filter=has_doi:true,has_abstract:true,has_references:true'\n",
    "results_per_page = 'per-page=100'"
   ]
  },
  {
   "cell_type": "code",
   "execution_count": 68,
   "metadata": {},
   "outputs": [],
   "source": [
    "kw_list = [i[1:] for i in AIkwclass['keyword']]"
   ]
  },
  {
   "cell_type": "code",
   "execution_count": 81,
   "metadata": {},
   "outputs": [
    {
     "name": "stderr",
     "output_type": "stream",
     "text": [
      "  0%|          | 0/532 [01:36<?, ?it/s]\n"
     ]
    }
   ],
   "source": [
    "papers = []\n",
    "for kw in tqdm(kw_list):\n",
    "    cursor = '*'\n",
    "    l = 1\n",
    "    while (cursor != None) & (l != 0):\n",
    "        baseURL = '&'.join([is_work,\n",
    "                        authentification,\n",
    "                        results_per_page,\n",
    "                        f'cursor={cursor}',\n",
    "                        filtering])\n",
    "        baseURL = add_request_abstract(baseURL, kw)\n",
    "        baseURL = add_request_title(baseURL, kw)\n",
    "        #baseURL = add_request_fulltext(baseURL, kw)\n",
    "        response = requests.get(baseURL).json()\n",
    "        papers.extend(response['results'])\n",
    "        cursor = response['meta']['next_cursor']\n",
    "        l = len(response['results'])\n",
    "    # break # for one keyword testing"
   ]
  }
 ],
 "metadata": {
  "kernelspec": {
   "display_name": "Python 3 (ipykernel)",
   "language": "python",
   "name": "python3"
  },
  "language_info": {
   "codemirror_mode": {
    "name": "ipython",
    "version": 3
   },
   "file_extension": ".py",
   "mimetype": "text/x-python",
   "name": "python",
   "nbconvert_exporter": "python",
   "pygments_lexer": "ipython3",
   "version": "3.8.10"
  }
 },
 "nbformat": 4,
 "nbformat_minor": 4
}
